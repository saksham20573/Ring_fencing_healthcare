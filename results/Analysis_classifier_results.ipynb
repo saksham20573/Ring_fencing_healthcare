{
  "cells": [
    {
      "cell_type": "code",
      "execution_count": null,
      "metadata": {
        "id": "t8YwtpHuECDU"
      },
      "outputs": [],
      "source": [
        "!pip install sentence-transformers"
      ]
    },
    {
      "cell_type": "code",
      "execution_count": 2,
      "metadata": {
        "colab": {
          "base_uri": "https://localhost:8080/"
        },
        "id": "eAEoLvl6kC4G",
        "outputId": "69fd5196-28c4-47b9-c311-b2b64bce2172"
      },
      "outputs": [
        {
          "name": "stdout",
          "output_type": "stream",
          "text": [
            "Drive already mounted at /content/drive; to attempt to forcibly remount, call drive.mount(\"/content/drive\", force_remount=True).\n"
          ]
        }
      ],
      "source": [
        "from google.colab import drive\n",
        "drive.mount('/content/drive')"
      ]
    },
    {
      "cell_type": "code",
      "execution_count": 3,
      "metadata": {
        "id": "Yb6qxhVAEQPp"
      },
      "outputs": [],
      "source": [
        "import pandas as pd\n",
        "from sklearn.model_selection import train_test_split\n",
        "from sentence_transformers import SentenceTransformer\n",
        "from sklearn.metrics.pairwise import cosine_similarity\n",
        "import numpy as np\n",
        "from sklearn.metrics import f1_score\n",
        "from sklearn.metrics import accuracy_score, precision_score, recall_score\n",
        "from sklearn import preprocessing\n",
        "from sklearn.svm import SVC\n",
        "from sklearn.linear_model import LogisticRegression\n",
        "from sklearn.neural_network import MLPClassifier\n",
        "from sklearn.tree import DecisionTreeClassifier"
      ]
    },
    {
      "cell_type": "code",
      "execution_count": 5,
      "metadata": {
        "id": "0PZf5P8fEtuV"
      },
      "outputs": [],
      "source": [
        "df = pd.read_csv(\"/content/drive/MyDrive/Ring_fencing_files/Analysis_Classification_dataset - Sheet1.csv\")"
      ]
    },
    {
      "cell_type": "code",
      "execution_count": 6,
      "metadata": {
        "id": "4fJt0kWNEmqW"
      },
      "outputs": [],
      "source": [
        "def get_bert_embedding(data_frame):\n",
        "  \"\"\"\n",
        "  Input a data frame and return the bert embedding vectors for the each sentence column.\n",
        "  Return 2 matrices each of shape (#_samples, #size_of_word_emb).\n",
        "  \"\"\"\n",
        "  cont_model = SentenceTransformer('distilbert-base-uncased')\n",
        "  \n",
        "  feature1 = cont_model.encode(data_frame)\n",
        "  \n",
        "  return feature1\n",
        "\n",
        "column = \"LABEL\"\n",
        "df_enc = df.copy()\n",
        "le = preprocessing.LabelEncoder()\n",
        "le.fit(df[column].unique())\n",
        "df_enc[column] = le.transform(df[column])"
      ]
    },
    {
      "cell_type": "markdown",
      "metadata": {
        "id": "w_qEHDLnFCYc"
      },
      "source": [
        "k-fold cross validation"
      ]
    },
    {
      "cell_type": "code",
      "execution_count": 25,
      "metadata": {
        "id": "DlxqoryeFCDn"
      },
      "outputs": [],
      "source": [
        "def run_4_folds(clf, df):\n",
        "  size = len(df.index) // 4\n",
        "  start = 0\n",
        "  folds = []\n",
        "  df = df.sample(frac = 1)\n",
        "  for i in range(3):\n",
        "    folds.append(df.iloc[start:start + size, :])\n",
        "    start += size\n",
        "  folds.append(df.iloc[start:, :])\n",
        "  f1_scores = []\n",
        "  accuracies = []\n",
        "  prec = []\n",
        "  rec = []\n",
        "  for i in range(4):\n",
        "    temp = folds.copy()\n",
        "    df_test = temp.pop(i)\n",
        "    df_train = pd.concat(temp)\n",
        "    X_train = df_train[\"QUERY\"]\n",
        "    y_train = df_train[\"LABEL\"]\n",
        "    X_test = df_test[\"QUERY\"]\n",
        "    y_test = df_test[\"LABEL\"]\n",
        "    feature_1_train = get_bert_embedding(np.array(X_train))\n",
        "    if clf == \"svc\":\n",
        "      model_classify = SVC()\n",
        "    if clf == \"lr\":\n",
        "      model_classify = LogisticRegression(max_iter = 500)\n",
        "    if clf == \"mlp\":\n",
        "      model_classify = MLPClassifier(hidden_layer_sizes = (256, 128, 64), activation = \"logistic\")\n",
        "    if clf == \"dt\":\n",
        "      model_classify = DecisionTreeClassifier(criterion = \"entropy\")\n",
        "    model_classify.fit(np.array(feature_1_train), y_train)\n",
        "    feature_1_test = get_bert_embedding(np.array(X_test))\n",
        "    preds = model_classify.predict(feature_1_test)\n",
        "    f1_scores.append(f1_score(y_test, preds, average = \"macro\"))\n",
        "    accuracies.append(accuracy_score(y_test, preds))\n",
        "    prec.append(precision_score(y_test, preds, average = \"macro\"))\n",
        "    rec.append(recall_score(y_test, preds, average = \"macro\"))\n",
        "  return sum(f1_scores) / 4, sum(accuracies) / 4, sum(prec) / 4, sum(rec) / 4\n"
      ]
    },
    {
      "cell_type": "markdown",
      "metadata": {
        "id": "i-8T4ffdwB04"
      },
      "source": [
        "SVC"
      ]
    },
    {
      "cell_type": "code",
      "execution_count": null,
      "metadata": {
        "id": "z_YL-rydIGR6"
      },
      "outputs": [],
      "source": [
        "f1, acc, prec, rec = run_4_folds(\"svc\", df_enc)"
      ]
    },
    {
      "cell_type": "code",
      "execution_count": null,
      "metadata": {
        "colab": {
          "base_uri": "https://localhost:8080/"
        },
        "id": "gS1T8zT_LHvn",
        "outputId": "188589ac-ea2a-402a-e0db-e60efc3a0bd6"
      },
      "outputs": [
        {
          "name": "stdout",
          "output_type": "stream",
          "text": [
            "F1 score: 0.9832860513674654\n",
            "Accuracy: 0.9829717275476408\n",
            "Precision: 0.9838871088037874\n",
            "Recall: 0.9832380786021002\n"
          ]
        }
      ],
      "source": [
        "print(\"F1 score: \" + str(f1))\n",
        "print(\"Accuracy: \" + str(acc))\n",
        "print(\"Precision: \"+ str(prec))\n",
        "print(\"Recall: \"+ str(rec))"
      ]
    },
    {
      "cell_type": "markdown",
      "metadata": {
        "id": "Wr0lom-xwEoQ"
      },
      "source": [
        "Logistic regression"
      ]
    },
    {
      "cell_type": "code",
      "execution_count": null,
      "metadata": {
        "id": "6l3nuWo4MO1f"
      },
      "outputs": [],
      "source": [
        "f1, acc, prec, rec = run_4_folds(\"lr\", df_enc)"
      ]
    },
    {
      "cell_type": "code",
      "execution_count": 29,
      "metadata": {
        "colab": {
          "base_uri": "https://localhost:8080/"
        },
        "id": "KUDhtCWRMRrX",
        "outputId": "ccb47089-1c5e-475c-8073-3db8b4372a39"
      },
      "outputs": [
        {
          "name": "stdout",
          "output_type": "stream",
          "text": [
            "F1 score: 0.9911835261707442\n",
            "Accuracy: 0.9909798556776909\n",
            "Precision: 0.9914823427415462\n",
            "Recall: 0.99098878858072\n"
          ]
        }
      ],
      "source": [
        "print(\"F1 score: \" + str(f1))\n",
        "print(\"Accuracy: \" + str(acc))\n",
        "print(\"Precision: \"+ str(prec))\n",
        "print(\"Recall: \"+ str(rec))"
      ]
    },
    {
      "cell_type": "markdown",
      "metadata": {
        "id": "yYC-9PbLBX1H"
      },
      "source": [
        "MLP classifier"
      ]
    },
    {
      "cell_type": "code",
      "execution_count": null,
      "metadata": {
        "id": "pfDomeElMziv"
      },
      "outputs": [],
      "source": [
        "f1, acc, prec, rec = run_4_folds(\"mlp\", df_enc)"
      ]
    },
    {
      "cell_type": "code",
      "execution_count": 27,
      "metadata": {
        "colab": {
          "base_uri": "https://localhost:8080/"
        },
        "id": "m_FPXIV6NCwg",
        "outputId": "b5fb4717-2e42-49a0-b987-b89454741bc8"
      },
      "outputs": [
        {
          "name": "stdout",
          "output_type": "stream",
          "text": [
            "F1 score: 0.9872107921139806\n",
            "Accuracy: 0.9869717915486648\n",
            "Precision: 0.9874778545440536\n",
            "Recall: 0.9870448387595407\n"
          ]
        }
      ],
      "source": [
        "print(\"F1 score: \" + str(f1))\n",
        "print(\"Accuracy: \" + str(acc))\n",
        "print(\"Precision: \"+ str(prec))\n",
        "print(\"Recall: \"+ str(rec))"
      ]
    },
    {
      "cell_type": "markdown",
      "metadata": {
        "id": "FEQdsg-nwJpk"
      },
      "source": [
        "Decision Tree"
      ]
    },
    {
      "cell_type": "code",
      "execution_count": null,
      "metadata": {
        "id": "QTCcV8ncwY-7"
      },
      "outputs": [],
      "source": [
        "f1, acc, prec, rec = run_4_folds(\"dt\", df_enc)"
      ]
    },
    {
      "cell_type": "code",
      "execution_count": null,
      "metadata": {
        "colab": {
          "base_uri": "https://localhost:8080/"
        },
        "id": "8FT2_g1NwZV3",
        "outputId": "e2905a73-512b-471e-b89e-75deda5701d5"
      },
      "outputs": [
        {
          "name": "stdout",
          "output_type": "stream",
          "text": [
            "F1 score: 0.9098686732855394\n",
            "Accuracy: 0.9088105409686555\n",
            "Precision: 0.91073231250771\n",
            "Recall: 0.9101444194025275\n"
          ]
        }
      ],
      "source": [
        "print(\"F1 score: \" + str(f1))\n",
        "print(\"Accuracy: \" + str(acc))\n",
        "print(\"Precision: \"+ str(prec))\n",
        "print(\"Recall: \"+ str(rec))"
      ]
    }
  ],
  "metadata": {
    "colab": {
      "provenance": []
    },
    "gpuClass": "standard",
    "kernelspec": {
      "display_name": "Python 3",
      "name": "python3"
    },
    "language_info": {
      "name": "python"
    }
  },
  "nbformat": 4,
  "nbformat_minor": 0
}

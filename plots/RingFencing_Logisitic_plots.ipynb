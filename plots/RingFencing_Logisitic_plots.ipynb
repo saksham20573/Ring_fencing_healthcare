{
  "nbformat": 4,
  "nbformat_minor": 0,
  "metadata": {
    "colab": {
      "provenance": []
    },
    "kernelspec": {
      "name": "python3",
      "display_name": "Python 3"
    },
    "language_info": {
      "name": "python"
    }
  },
  "cells": [
    {
      "cell_type": "markdown",
      "source": [
        "Loading the database"
      ],
      "metadata": {
        "id": "R6jStUts7hog"
      }
    },
    {
      "cell_type": "code",
      "source": [
        "!pip install sentence-transformers"
      ],
      "metadata": {
        "id": "A7NKVKLJN1j7"
      },
      "execution_count": null,
      "outputs": []
    },
    {
      "cell_type": "code",
      "execution_count": 33,
      "metadata": {
        "id": "n-URcYqsR7MX"
      },
      "outputs": [],
      "source": [
        "# Importing libraries\n",
        "import pandas as pd\n",
        "import math\n",
        "import numpy as np\n",
        "import matplotlib.pyplot as plt\n",
        "from sentence_transformers import SentenceTransformer\n",
        "from sklearn import preprocessing\n",
        "from sklearn.linear_model import SGDClassifier\n",
        "from sklearn.metrics import accuracy_score"
      ]
    },
    {
      "cell_type": "code",
      "source": [
        "# connecting to google drive\n",
        "from google.colab import drive\n",
        "drive.mount('/content/drive')"
      ],
      "metadata": {
        "colab": {
          "base_uri": "https://localhost:8080/"
        },
        "id": "ai9ldDmV7wsB",
        "outputId": "65706aea-5b4c-48d7-9d7d-eb53ca582ba0"
      },
      "execution_count": 3,
      "outputs": [
        {
          "output_type": "stream",
          "name": "stdout",
          "text": [
            "Mounted at /content/drive\n"
          ]
        }
      ]
    },
    {
      "cell_type": "code",
      "source": [
        "# Loading the database\n",
        "url = \"/content/drive/MyDrive/Final_query_dataset - Sheet1.csv\"\n",
        "df = pd.read_csv(url)"
      ],
      "metadata": {
        "id": "Yr3nDmRJ8CD_"
      },
      "execution_count": 99,
      "outputs": []
    },
    {
      "cell_type": "code",
      "source": [
        "def get_bert_embedding(data_frame):\n",
        "  \"\"\"\n",
        "  Input a data frame and return the bert embedding vectors for the each sentence column.\n",
        "  Return 2 matrices each of shape (#_samples, #size_of_word_emb).\n",
        "  \"\"\"\n",
        "  cont_model = SentenceTransformer('distilbert-base-uncased')\n",
        "  \n",
        "  feature1 = cont_model.encode(data_frame)\n",
        "  \n",
        "  return feature1\n",
        "\n",
        "for i in df.index:\n",
        "  if df[\"LABEL\"][i] == \"ANALYTICS\":\n",
        "    df[\"LABEL\"][i] = 0\n",
        "  if df[\"LABEL\"][i] == \"INDIVIDUAL\":\n",
        "    df[\"LABEL\"][i] = 1\n",
        "  if df[\"LABEL\"][i] == \"PREDICTION\":\n",
        "    df[\"LABEL\"][i] = 2\n",
        "\n",
        "df = df.sample(frac = 1)"
      ],
      "metadata": {
        "id": "bG580YgkODAP"
      },
      "execution_count": 100,
      "outputs": []
    },
    {
      "cell_type": "code",
      "source": [
        "df_train = df.iloc[:(len(df.index) *80) // 100, :]\n",
        "df_test = df.iloc[len(df_train.index):, :]\n",
        "X_train = df_train[\"QUERY\"]\n",
        "y_train = df_train[\"LABEL\"]\n",
        "X_test = df_test[\"QUERY\"]\n",
        "y_test = df_test[\"LABEL\"]"
      ],
      "metadata": {
        "id": "iE9Zlt0pSKoz"
      },
      "execution_count": 101,
      "outputs": []
    },
    {
      "cell_type": "code",
      "source": [
        "def acc(y_true, y_pred):\n",
        "  count = 0\n",
        "  correct = 0\n",
        "  for i in range(len(y_true)):\n",
        "    if y_true[i] == y_pred[i]:\n",
        "      correct += 1\n",
        "    count += 1\n",
        "  return correct / count"
      ],
      "metadata": {
        "id": "OuxHcREg5_Xe"
      },
      "execution_count": 102,
      "outputs": []
    },
    {
      "cell_type": "code",
      "source": [
        "embedding_train = get_bert_embedding(np.array(X_train))\n",
        "embedding_test = get_bert_embedding(np.array(X_test))"
      ],
      "metadata": {
        "colab": {
          "base_uri": "https://localhost:8080/"
        },
        "id": "4XHYpSEA47RO",
        "outputId": "5e2f32c4-3dc1-47ee-ede6-3d7c50aaaa0d"
      },
      "execution_count": 103,
      "outputs": [
        {
          "output_type": "stream",
          "name": "stderr",
          "text": [
            "WARNING:sentence_transformers.SentenceTransformer:No sentence-transformers model found with name /root/.cache/torch/sentence_transformers/distilbert-base-uncased. Creating a new one with MEAN pooling.\n",
            "Some weights of the model checkpoint at /root/.cache/torch/sentence_transformers/distilbert-base-uncased were not used when initializing DistilBertModel: ['vocab_transform.weight', 'vocab_projector.weight', 'vocab_transform.bias', 'vocab_layer_norm.weight', 'vocab_layer_norm.bias', 'vocab_projector.bias']\n",
            "- This IS expected if you are initializing DistilBertModel from the checkpoint of a model trained on another task or with another architecture (e.g. initializing a BertForSequenceClassification model from a BertForPreTraining model).\n",
            "- This IS NOT expected if you are initializing DistilBertModel from the checkpoint of a model that you expect to be exactly identical (initializing a BertForSequenceClassification model from a BertForSequenceClassification model).\n",
            "WARNING:sentence_transformers.SentenceTransformer:No sentence-transformers model found with name /root/.cache/torch/sentence_transformers/distilbert-base-uncased. Creating a new one with MEAN pooling.\n",
            "Some weights of the model checkpoint at /root/.cache/torch/sentence_transformers/distilbert-base-uncased were not used when initializing DistilBertModel: ['vocab_transform.weight', 'vocab_projector.weight', 'vocab_transform.bias', 'vocab_layer_norm.weight', 'vocab_layer_norm.bias', 'vocab_projector.bias']\n",
            "- This IS expected if you are initializing DistilBertModel from the checkpoint of a model trained on another task or with another architecture (e.g. initializing a BertForSequenceClassification model from a BertForPreTraining model).\n",
            "- This IS NOT expected if you are initializing DistilBertModel from the checkpoint of a model that you expect to be exactly identical (initializing a BertForSequenceClassification model from a BertForSequenceClassification model).\n"
          ]
        }
      ]
    },
    {
      "cell_type": "markdown",
      "source": [
        "Accuracy plot for logistic regression"
      ],
      "metadata": {
        "id": "YQZkKDU8Azex"
      }
    },
    {
      "cell_type": "code",
      "source": [
        "clf = SGDClassifier(loss = \"log_loss\", penalty = None)"
      ],
      "metadata": {
        "id": "pjOqyDwM3Gnz"
      },
      "execution_count": 108,
      "outputs": []
    },
    {
      "cell_type": "code",
      "source": [
        "train_accuracies = []\n",
        "accuracies = []\n",
        "index = []\n",
        "i = 0\n",
        "epochs = 50\n",
        "for i in range(epochs):\n",
        "  clf.partial_fit(embedding_train, y_train, [0, 1, 2])\n",
        "  predictions = clf.predict(embedding_test)\n",
        "  train_predictions = clf.predict(embedding_train)\n",
        "  # print(predictions)\n",
        "  accuracies.append(accuracy_score(np.array(y_test, dtype = \"int\"), np.array(predictions, dtype = \"int\")))\n",
        "  train_accuracies.append(accuracy_score(np.array(y_train, dtype = \"int\"), np.array(train_predictions, dtype = \"int\")))\n",
        "  index.append(i)\n",
        "  i += 1\n"
      ],
      "metadata": {
        "id": "IGvJU2ym3i2j"
      },
      "execution_count": 109,
      "outputs": []
    },
    {
      "cell_type": "code",
      "source": [
        "plt.plot(index, train_accuracies, label = \"Training Accuracy\")\n",
        "plt.plot(index, accuracies, label = \"Testing Accuracy\")\n",
        "plt.xlabel(\"Epochs\")\n",
        "plt.ylabel(\"Accuracy\")\n",
        "plt.title(\"Accuracy vs epochs\")\n",
        "plt.legend()"
      ],
      "metadata": {
        "colab": {
          "base_uri": "https://localhost:8080/",
          "height": 312
        },
        "id": "tS4S-epJBaNI",
        "outputId": "6de42b17-05c2-490b-e22b-e84182be69f9"
      },
      "execution_count": 110,
      "outputs": [
        {
          "output_type": "execute_result",
          "data": {
            "text/plain": [
              "<matplotlib.legend.Legend at 0x7fcf0dea83d0>"
            ]
          },
          "metadata": {},
          "execution_count": 110
        },
        {
          "output_type": "display_data",
          "data": {
            "text/plain": [
              "<Figure size 432x288 with 1 Axes>"
            ],
            "image/png": "[encoded data removed]"
          },
          "metadata": {
            "needs_background": "light"
          }
        }
      ]
    },
    {
      "cell_type": "markdown",
      "source": [
        "Logistic with L2 regularization"
      ],
      "metadata": {
        "id": "x7V378fBKnGN"
      }
    },
    {
      "cell_type": "code",
      "source": [
        "clf = SGDClassifier(loss = \"log_loss\")"
      ],
      "metadata": {
        "id": "3RBwi6_2KSy6"
      },
      "execution_count": 114,
      "outputs": []
    },
    {
      "cell_type": "code",
      "source": [
        "train_accuracies = []\n",
        "accuracies = []\n",
        "index = []\n",
        "i = 0\n",
        "epochs = 50\n",
        "for i in range(epochs):\n",
        "  clf.partial_fit(embedding_train, y_train, [0, 1, 2])\n",
        "  predictions = clf.predict(embedding_test)\n",
        "  train_predictions = clf.predict(embedding_train)\n",
        "  # print(predictions)\n",
        "  accuracies.append(accuracy_score(np.array(y_test, dtype = \"int\"), np.array(predictions, dtype = \"int\")))\n",
        "  train_accuracies.append(accuracy_score(np.array(y_train, dtype = \"int\"), np.array(train_predictions, dtype = \"int\")))\n",
        "  index.append(i)\n",
        "  i += 1"
      ],
      "metadata": {
        "id": "yyx6DrqzK2K4"
      },
      "execution_count": 115,
      "outputs": []
    },
    {
      "cell_type": "code",
      "source": [
        "plt.plot(index, train_accuracies, label = \"Training Accuracy\")\n",
        "plt.plot(index, accuracies, label = \"Testing Accuracy\")\n",
        "plt.xlabel(\"Epochs\")\n",
        "plt.ylabel(\"Accuracy\")\n",
        "plt.title(\"Accuracy vs epochs\")\n",
        "plt.legend()"
      ],
      "metadata": {
        "colab": {
          "base_uri": "https://localhost:8080/",
          "height": 312
        },
        "id": "jx4ThdnDK6Hc",
        "outputId": "c93fabe1-cbcb-4b51-ee5e-399dab468b63"
      },
      "execution_count": 116,
      "outputs": [
        {
          "output_type": "execute_result",
          "data": {
            "text/plain": [
              "<matplotlib.legend.Legend at 0x7fcf0ddc2f70>"
            ]
          },
          "metadata": {},
          "execution_count": 116
        },
        {
          "output_type": "display_data",
          "data": {
            "text/plain": [
              "<Figure size 432x288 with 1 Axes>"
            ],
            "image/png": "[encoded data removed]"
          },
          "metadata": {
            "needs_background": "light"
          }
        }
      ]
    },
    {
      "cell_type": "markdown",
      "source": [
        "Logisitic with L1"
      ],
      "metadata": {
        "id": "cCeNbN7EMLTE"
      }
    },
    {
      "cell_type": "code",
      "source": [
        "clf = SGDClassifier(loss = \"log_loss\", penalty = \"l1\")"
      ],
      "metadata": {
        "id": "3yDiYKGnMK_b"
      },
      "execution_count": 117,
      "outputs": []
    },
    {
      "cell_type": "code",
      "source": [
        "train_accuracies = []\n",
        "accuracies = []\n",
        "index = []\n",
        "i = 0\n",
        "epochs = 50\n",
        "for i in range(epochs):\n",
        "  clf.partial_fit(embedding_train, y_train, [0, 1, 2])\n",
        "  predictions = clf.predict(embedding_test)\n",
        "  train_predictions = clf.predict(embedding_train)\n",
        "  # print(predictions)\n",
        "  accuracies.append(accuracy_score(np.array(y_test, dtype = \"int\"), np.array(predictions, dtype = \"int\")))\n",
        "  train_accuracies.append(accuracy_score(np.array(y_train, dtype = \"int\"), np.array(train_predictions, dtype = \"int\")))\n",
        "  index.append(i)\n",
        "  i += 1"
      ],
      "metadata": {
        "id": "k8v8oKZyMOlB"
      },
      "execution_count": 118,
      "outputs": []
    },
    {
      "cell_type": "code",
      "source": [
        "plt.plot(index, train_accuracies, label = \"Training Accuracy\")\n",
        "plt.plot(index, accuracies, label = \"Testing Accuracy\")\n",
        "plt.xlabel(\"Epochs\")\n",
        "plt.ylabel(\"Accuracy\")\n",
        "plt.title(\"Accuracy vs epochs\")\n",
        "plt.legend()"
      ],
      "metadata": {
        "colab": {
          "base_uri": "https://localhost:8080/",
          "height": 312
        },
        "id": "UILwV9ySMQYI",
        "outputId": "224ad06d-7f6f-4f74-9c5b-3ecc078cf5ce"
      },
      "execution_count": 119,
      "outputs": [
        {
          "output_type": "execute_result",
          "data": {
            "text/plain": [
              "<matplotlib.legend.Legend at 0x7fcf0ddc26a0>"
            ]
          },
          "metadata": {},
          "execution_count": 119
        },
        {
          "output_type": "display_data",
          "data": {
            "text/plain": [
              "<Figure size 432x288 with 1 Axes>"
            ],
            "image/png": "[encoded data removed]"
          },
          "metadata": {
            "needs_background": "light"
          }
        }
      ]
    }
  ]
}